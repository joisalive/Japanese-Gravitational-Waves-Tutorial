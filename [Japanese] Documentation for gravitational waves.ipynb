{
  "metadata": {
    "kernelspec": {
      "name": "python",
      "display_name": "Python (Pyodide)",
      "language": "python"
    },
    "language_info": {
      "codemirror_mode": {
        "name": "python",
        "version": 3
      },
      "file_extension": ".py",
      "mimetype": "text/x-python",
      "name": "python",
      "nbconvert_exporter": "python",
      "pygments_lexer": "ipython3",
      "version": "3.8"
    }
  },
  "nbformat_minor": 4,
  "nbformat": 4,
  "cells": [
    {
      "cell_type": "markdown",
      "source": "Introduction ",
      "metadata": {}
    },
    {
      "cell_type": "markdown",
      "source": "**注意事項**：\n- このノートブックは2023年のOpen Data Workshopのコードを使用しています。あなたがこのノートにアクセスする頃には、ソフトウェアのバージョンが変更されているかもしれません。常に最新のOpen Data Workshopと比較してください。\n- このノートは、インターネット上の重力波解析の情報を頼りに素人が書いたものです。このノートの作者は重力波解析の修士号や博士号を持っている人ではないので、間違いがあるかもしれないことをご了承ください。\n- 作者は専門家からのフィードバックや訂正をいつでも受け付けている。訂正は winjoselynwinda@gmail.com まで。",
      "metadata": {}
    },
    {
      "cell_type": "markdown",
      "source": "重力波の解析は、LIGO-VIRGO-KAGRAが提供するソフトウェアを使って行われる。ソフトウェアはオンラインでダウンロード可能である。またソフトウェアの使い方はインターネット上にドキュメントが公開されている。このドキュメントは、サンプルコードに書かれているコードの補足説明や日本語の解説を提供することを目的としている。",
      "metadata": {}
    },
    {
      "cell_type": "markdown",
      "source": "重力波の解析は、ユーザーのコンピューターにソフトウェアをダウンロードすることで行うことができる。携帯電話にアプリをインストールするように、ソフトウェアを挿入することを想像してほしい。また、JupyterノートブックやGoogle Colabを利用することもできる。それぞれの方法には利点と欠点があることに注意してください。パソコンにソフトウェアをダウンロードする場合、ソフトウェアが古く、現在の推奨バージョンにアップグレードするのに苦労することがあるかもしれない。Google Colabを使用する場合は、コンピュータから簡単にアクセスできますが、Google Colabで実行するには重い計算もある。",
      "metadata": {}
    },
    {
      "cell_type": "markdown",
      "source": "#1 : オープンデータを見つける",
      "metadata": {}
    },
    {
      "cell_type": "markdown",
      "source": "まずは、ソフトウェアをインストールすること。どのようなデータがあることを確認するためにgwoscのソフトウェアを使います。gwoscは重力波オープンサイエンスセンターのアーカイブへのpythonインターフェースです。Google Colabでインストールの仕方はです",
      "metadata": {}
    },
    {
      "cell_type": "code",
      "source": "! pip install -q 'gwosc==0.7.1'",
      "metadata": {
        "trusted": true
      },
      "outputs": [],
      "execution_count": null
    },
    {
      "cell_type": "code",
      "source": "#インストールする インストールするバージョンを確認してください。\n# 0.7.1（2023年のオープンデータ・ワークショップに基づく）のはずですが、もっと新しいバージョンもあるでしょう。\n# 最新のオープンデータワークショップのgithubから確認してください。\nimport gwosc\nprint(gwosc.__version__)",
      "metadata": {
        "trusted": true
      },
      "outputs": [],
      "execution_count": null
    },
    {
      "cell_type": "markdown",
      "source": "# イベント情報の探す",
      "metadata": {}
    },
    {
      "cell_type": "markdown",
      "source": "gwosc.datasets モジュールには、重力波イベント、カタログ、および完全な実行ひずみデータのリリースを検索するツールが含まれている。重力波のイベントは重力波のラベル/名前のようなもので、カタログは重力波のイベントのセットであり、フルストレインデータは重力波の変形のデータです。\n\nこのチュートリアルでは、重力波カタログのイベントに取り組む。カタログには、実行の観察によるイベントが含まれている。観測ランとは重力波の観測期間の名称です。例えば、2015年9月15日から2016年1月19日までに検出された重力波は、観測ラン1で観測された重力波として分類され、通称はO1に呼ぶ。まず、利用可能なカタログを確認する必要がある。カタログには、%%html <a href=\"https://gw-openscience.org/eventapi\">Event Catalogue</a> からアクセスできる。\n",
      "metadata": {}
    },
    {
      "cell_type": "code",
      "source": "from gwosc.datasets import find_datasets\nfrom gwosc import datasets\n\n#-- List all available catalogs\nprint(\"List of available catalogs\")\nprint(find_datasets(type=\"catalog\"))",
      "metadata": {
        "trusted": true
      },
      "outputs": [],
      "execution_count": null
    }
  ]
}