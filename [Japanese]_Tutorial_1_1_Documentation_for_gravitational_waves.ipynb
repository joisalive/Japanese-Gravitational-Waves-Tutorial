{
  "metadata": {
    "kernelspec": {
      "name": "python",
      "display_name": "Python (Pyodide)",
      "language": "python"
    },
    "language_info": {
      "codemirror_mode": {
        "name": "python",
        "version": 3
      },
      "file_extension": ".py",
      "mimetype": "text/x-python",
      "name": "python",
      "nbconvert_exporter": "python",
      "pygments_lexer": "ipython3",
      "version": "3.8"
    },
    "colab": {
      "provenance": []
    }
  },
  "nbformat_minor": 0,
  "nbformat": 4,
  "cells": [
    {
      "cell_type": "markdown",
      "source": [
        "Introduction"
      ],
      "metadata": {
        "id": "KbcZY5Jt-TKx"
      }
    },
    {
      "cell_type": "markdown",
      "source": [
        "**注意事項**：\n",
        "- このノートブックは2023年のOpen Data Workshopのコードを使用しています。あなたがこのノートにアクセスする頃には、ソフトウェアのバージョンが変更されているかもしれません。常に最新のOpen Data Workshopと比較してください。\n",
        "- このノートは、インターネット上の重力波解析の情報を頼りに素人が書いたものです。このノートの作者は重力波解析の修士号や博士号を持っている人ではないので、間違いがあるかもしれないことをご了承ください。\n",
        "- 作者は専門家からのフィードバックや訂正をいつでも受け付けている。訂正は winjoselynwinda@gmail.com まで。\n",
        "- 日本語チェックは佐藤がやった。"
      ],
      "metadata": {
        "id": "s9qzFVlS-TKy"
      }
    },
    {
      "cell_type": "markdown",
      "source": [
        "重力波の解析は、LIGO-VIRGO-KAGRAが提供するソフトウェアを使って行われる。ソフトウェアはオンラインでダウンロード可能である。またソフトウェアの使い方はインターネット上にドキュメントが公開されている。このドキュメントは、サンプルコードに書かれているコードの補足説明や日本語の解説を提供することを目的としている。"
      ],
      "metadata": {
        "id": "eUBTaSgs-TKy"
      }
    },
    {
      "cell_type": "markdown",
      "source": [
        "重力波の解析は、ユーザーのコンピューターにソフトウェアをダウンロードすることで行うことができる。携帯電話にアプリをインストールするように、ソフトウェアを挿入することを想像してほしい。また、JupyterノートブックやGoogle Colabを利用することもできる。それぞれの方法には利点と欠点があることに注意してください。パソコンにソフトウェアをダウンロードする場合、ソフトウェアが古く、現在の推奨バージョンにアップグレードするのに苦労することがあるかもしれない。Google Colabを使用する場合は、コンピュータから簡単にアクセスできますが、Google Colabで実行するには重い計算もある。"
      ],
      "metadata": {
        "id": "biCrADod-TKy"
      }
    },
    {
      "cell_type": "markdown",
      "source": [
        "#1 : オープンデータを見つける"
      ],
      "metadata": {
        "id": "Ru0p79L6-TKz"
      }
    },
    {
      "cell_type": "markdown",
      "source": [
        "まずは、ソフトウェアをインストールすること。どのようなデータがあることを確認するためにgwoscのソフトウェアを使います。gwoscは重力波オープンサイエンスセンターのアーカイブへのpythonインターフェースです。Google Colabでインストールの仕方はです"
      ],
      "metadata": {
        "id": "O9QtBfV1-TKz"
      }
    },
    {
      "cell_type": "code",
      "source": [
        "! pip install -q 'gwosc==0.7.1'"
      ],
      "metadata": {
        "trusted": true,
        "id": "nNuB-Ve5-TKz"
      },
      "outputs": [],
      "execution_count": null
    },
    {
      "cell_type": "code",
      "source": [
        "#インストールする インストールするバージョンを確認してください。\n",
        "# 0.7.1（2023年のオープンデータ・ワークショップに基づく）のはずですが、もっと新しいバージョンもあるでしょう。\n",
        "# 最新のオープンデータワークショップのgithubから確認してください。\n",
        "import gwosc\n",
        "print(gwosc.__version__)"
      ],
      "metadata": {
        "trusted": true,
        "colab": {
          "base_uri": "https://localhost:8080/"
        },
        "id": "EE8j7Cit-TKz",
        "outputId": "f38f3348-9045-47f8-d67f-39a625826122"
      },
      "outputs": [
        {
          "output_type": "stream",
          "name": "stdout",
          "text": [
            "0.7.1\n"
          ]
        }
      ],
      "execution_count": null
    },
    {
      "cell_type": "markdown",
      "source": [
        "# イベント情報の探す"
      ],
      "metadata": {
        "id": "kW4PTXMz-TK0"
      }
    },
    {
      "cell_type": "markdown",
      "source": [
        "gwosc.datasets モジュールには、重力波イベント、カタログ、および完全な実行ひずみデータのリリースを検索するツールが含まれている。重力波のイベントは重力波のラベル/名前のようなもので、カタログは重力波のイベントのセットであり、フルストレインデータは重力波の変形のデータです。\n",
        "\n",
        "このチュートリアルでは、重力波カタログのイベントに取り組む。カタログには、実行の観察によるイベントが含まれている。観測ランとは重力波の観測期間の名称です。例えば、2015年9月15日から2016年1月19日までに検出された重力波は、観測ラン1で観測された重力波として分類され、通称はO1に呼ぶ。まず、利用可能なカタログを確認する必要がある。カタログには、 <a href=\"https://gw-openscience.org/eventapi\">Event Catalog</a> からアクセスできる。\n"
      ],
      "metadata": {
        "id": "1oQuMcT4-TK0"
      }
    },
    {
      "cell_type": "code",
      "source": [
        "from gwosc.datasets import find_datasets\n",
        "from gwosc import datasets\n",
        "\n",
        "#-- List all available catalogs\n",
        "print(\"List of available catalogs\")\n",
        "print(find_datasets(type=\"catalog\"))"
      ],
      "metadata": {
        "trusted": true,
        "colab": {
          "base_uri": "https://localhost:8080/"
        },
        "id": "djxX7yDB-TK0",
        "outputId": "4803c55d-5ad1-4e07-e0a0-9b7e88892f40"
      },
      "outputs": [
        {
          "output_type": "stream",
          "name": "stdout",
          "text": [
            "List of available catalogs\n",
            "['GWTC', 'GWTC-1-confident', 'GWTC-1-marginal', 'GWTC-2', 'GWTC-2.1-auxiliary', 'GWTC-2.1-confident', 'GWTC-2.1-marginal', 'GWTC-3-confident', 'GWTC-3-marginal', 'Initial_LIGO_Virgo', 'O1_O2-Preliminary', 'O3_Discovery_Papers', 'O3_IMBH_marginal', 'O4_Discovery_Papers']\n"
          ]
        }
      ],
      "execution_count": null
    },
    {
      "cell_type": "markdown",
      "source": [
        "カタログの名前では意味がついています。\"confident\"がついている名前は確定されていた重力波の信号です。\"marginal\"は確認できないイベントである。<a href=\"https://gwosc.org/eventapi/html/GWTC-1-marginal/\">これを読んでください</a>\n",
        "一方、\"auxiliary\"は、検出器の内部状態を測定する追加の検出器情報であり、検出された重力波の情報を検証するのに役立ちます。詳細については、<a href=\"https://gswiki.ischool.syr.edu\">  ここ </a> をクリックしてください。"
      ],
      "metadata": {
        "id": "iLZJYR8kAMke"
      }
    },
    {
      "cell_type": "markdown",
      "source": [
        "次は、O1にあるイベントを全てプリントしましょう。"
      ],
      "metadata": {
        "id": "dnnb7TAlITrt"
      }
    },
    {
      "cell_type": "code",
      "source": [
        "#-- Print all the GW events from the GWTC-1 catalog\n",
        "gwtc1 = datasets.find_datasets(type='events', catalog='GWTC-1-confident') #type='events'はイベントを指す、catalogはどのようなo1のデータ種類を指すこと\n",
        "print('GWTC-1 events:', gwtc1)\n",
        "print(\"\")"
      ],
      "metadata": {
        "colab": {
          "base_uri": "https://localhost:8080/"
        },
        "id": "zCCfeHyLIQVi",
        "outputId": "5bdbd064-0525-48d7-c564-bcb833f35e0d"
      },
      "execution_count": null,
      "outputs": [
        {
          "output_type": "stream",
          "name": "stdout",
          "text": [
            "GWTC-1 events: ['GW150914-v3', 'GW151012-v3', 'GW151226-v2', 'GW170104-v2', 'GW170608-v3', 'GW170729-v1', 'GW170809-v1', 'GW170814-v3', 'GW170817-v3', 'GW170818-v1', 'GW170823-v1']\n",
            "\n"
          ]
        }
      ]
    },
    {
      "cell_type": "markdown",
      "source": [
        "イベント名のタイプは GWyymmdd-vx であることに注意してください。ここで、x は GWOSC によって提供されるデータ セットの利用可能な最後のバージョンです。"
      ],
      "metadata": {
        "id": "tz6BANBJJwYK"
      }
    },
    {
      "cell_type": "markdown",
      "source": [
        "[English note]\n",
        "\n",
        "Next, we will look at the types of data that is categorized as \"run\", this is seen as the large strain data set. The recording of detector arm difference is known as the strain of passing gravitational waves. LIGO are able to detect gravitational waves data with frequency from 5 Hz to 20,000 Hz, and the data they provided are 4 kHz and 16 kHz. The data sometimes are downsampled <a href=\"https://e-words.jp/w/ダウンサンプリング.htmlto\"> downsample </a> to 4096 Hz. These are the data recorded for the whole observing \"run\", hence the type of the data is run.\n",
        "\n",
        "次に、「run」として分類されるデータの種類を見ている。これはlarge strain data set(大規模なひずみデータ セット)だ。検出器で発生されたレーザーの差の記録は、通過する重力波のstrain(歪み)として知られている。 LIGO は 5 Hz から 20,000 Hz の周波数の重力波データを検出でき、提供されたデータは 4 kHz と 16 kHz です。データは 4096 Hz に <a href=\"https://e-words.jp/w/ダウンサンプリング.htmlto\"> ダウンサンプリング </a> される場合がある。これらは、観察の「run」全体に対して記録されたデータであるため、データのタイプはrunになる。"
      ],
      "metadata": {
        "id": "pop5oEK0WES1"
      }
    },
    {
      "cell_type": "code",
      "source": [
        "#-- Print all the large strain data sets from LIGO/Virgo/KAGRA observing runs\n",
        "runs = find_datasets(type='run')\n",
        "print('Large data sets:', runs)"
      ],
      "metadata": {
        "colab": {
          "base_uri": "https://localhost:8080/"
        },
        "id": "nrs6aiSmJxip",
        "outputId": "9a5385d9-7960-4256-9bf5-f00318255fb1"
      },
      "execution_count": null,
      "outputs": [
        {
          "output_type": "stream",
          "name": "stdout",
          "text": [
            "Large data sets: ['BKGW170608_16KHZ_R1', 'O1', 'O1_16KHZ', 'O2_16KHZ_R1', 'O2_4KHZ_R1', 'O3GK_16KHZ_R1', 'O3GK_4KHZ_R1', 'O3a_16KHZ_R1', 'O3a_4KHZ_R1', 'O3b_16KHZ_R1', 'O3b_4KHZ_R1', 'S5', 'S6']\n"
          ]
        }
      ]
    },
    {
      "cell_type": "markdown",
      "source": [
        "注意：最新の観測ラン、例えばO2は、ランの名前（例：O2）、サンプリングレート（4kHzまたは16kHz）、リリースバージョン（例：R1）を含む名前でラベル付けされている。これは、O2に対して、所望のサンプリングレートに応じて'O2_4KHZ_R1'と'O2_16KHZ_R1'という2つのラベルがあることを意味する。"
      ],
      "metadata": {
        "id": "FPKfC17ke80m"
      }
    },
    {
      "cell_type": "markdown",
      "source": [
        "datasets.find_datasetsは、GPS時刻と検出器に基づいて結果を絞り込むためのセグメントと検出器のキーワードも受け入れる。これらの時間はすべてGPS時間システムで返され、1980年1月6日午前0時（00:00）のGPSエポック開始からの経過秒数を数えます。GWOSCはdatetimeに変換するために使用できるGPS時間コンバータを提供していますが、gwpy.timeを使用することもできます。\n"
      ],
      "metadata": {
        "id": "NuO8AM33fNnA"
      }
    },
    {
      "cell_type": "code",
      "source": [
        "#-- GPS時間を絞れば、または観測機を絞れば、catalogを絞れば重力波のイベントが絞られる。\n",
        "# 今回はGPSの1164556871秒から 1187733618までのデータを絞り、またLIGO Livingstoneのデータに絞りたい、そして 01でconfidentのイベントを探すためにこのプログラムをかく\n",
        "\n",
        "print(datasets.find_datasets(type='events', catalog='GWTC-1-confident', detector=\"L1\", segment=(1164556817, 1187733618)))"
      ],
      "metadata": {
        "colab": {
          "base_uri": "https://localhost:8080/"
        },
        "id": "cbekTkZcfKbH",
        "outputId": "b8e03c3b-7282-4277-e8b5-bf47d2acc570"
      },
      "execution_count": null,
      "outputs": [
        {
          "output_type": "stream",
          "name": "stdout",
          "text": [
            "['GW170104-v2', 'GW170608-v3', 'GW170729-v1', 'GW170809-v1', 'GW170814-v3', 'GW170817-v3', 'GW170818-v1', 'GW170823-v1']\n"
          ]
        }
      ]
    },
    {
      "cell_type": "code",
      "source": [
        "# 逆でもいける\n",
        "from gwosc.datasets import event_at_gps\n",
        "print(datasets.event_at_gps(1240215503))"
      ],
      "metadata": {
        "colab": {
          "base_uri": "https://localhost:8080/"
        },
        "id": "9GUb3_wdgUqH",
        "outputId": "d9ff89f9-ea3c-40df-a664-fa42773a156a"
      },
      "execution_count": null,
      "outputs": [
        {
          "output_type": "stream",
          "name": "stdout",
          "text": [
            "GW190425\n"
          ]
        }
      ]
    },
    {
      "cell_type": "markdown",
      "source": [
        "event_at_gpsの方法は、与えられたGPS時刻から1秒以内に見つかったイベントを探すことに注意してください。イベントが見つからない場合はエラーとなる。"
      ],
      "metadata": {
        "id": "39fr5aU4guDW"
      }
    },
    {
      "cell_type": "markdown",
      "source": [
        "そして、observing runによりイベントのGPSを探すこともできる"
      ],
      "metadata": {
        "id": "AC2A2AP-g1B0"
      }
    },
    {
      "cell_type": "code",
      "source": [
        "from gwosc.datasets import run_segment\n",
        "print(run_segment('O1'))"
      ],
      "metadata": {
        "colab": {
          "base_uri": "https://localhost:8080/"
        },
        "id": "MwZjQtbSgySK",
        "outputId": "4e3b9a16-f78d-44a6-a1ea-24dbdb897384"
      },
      "execution_count": null,
      "outputs": [
        {
          "output_type": "stream",
          "name": "stdout",
          "text": [
            "(1126051217, 1137254417)\n"
          ]
        }
      ]
    },
    {
      "cell_type": "code",
      "source": [
        "#-- 逆でもいける\n",
        "from gwosc.datasets import run_at_gps\n",
        "print(run_at_gps(1240215503))"
      ],
      "metadata": {
        "colab": {
          "base_uri": "https://localhost:8080/"
        },
        "id": "o6gqzQqPg8Rb",
        "outputId": "3c06da62-ac9c-4fea-c94f-76f4370e5729"
      },
      "execution_count": null,
      "outputs": [
        {
          "output_type": "stream",
          "name": "stdout",
          "text": [
            "O3a_16KHZ_R1\n"
          ]
        }
      ]
    },
    {
      "cell_type": "markdown",
      "source": [
        "そして、run_segmentやfind_datasetの知識により今回は第一のobserving runのconfidentイベントを探すことができる"
      ],
      "metadata": {
        "id": "nrfMf73UhUD5"
      }
    },
    {
      "cell_type": "code",
      "source": [
        "O1_events = datasets.find_datasets(type='events', catalog='GWTC-1-confident', segment=run_segment('O1'))\n",
        "print(O1_events)"
      ],
      "metadata": {
        "colab": {
          "base_uri": "https://localhost:8080/"
        },
        "id": "OcVkvbUlhikj",
        "outputId": "2adf5bb4-a69d-4719-fe76-a960caf0fbb3"
      },
      "execution_count": null,
      "outputs": [
        {
          "output_type": "stream",
          "name": "stdout",
          "text": [
            "['GW150914-v3', 'GW151012-v3', 'GW151226-v2']\n"
          ]
        }
      ]
    },
    {
      "cell_type": "markdown",
      "source": [
        "# データのファイルを調べる"
      ],
      "metadata": {
        "id": "Y6EaYbSph_YE"
      }
    },
    {
      "cell_type": "markdown",
      "source": [
        "gwosc.locateのmoduleを使って、重力波のデータファイルのurlをもらうことができる\n"
      ],
      "metadata": {
        "id": "PJRIkrCLiJPI"
      }
    },
    {
      "cell_type": "code",
      "source": [
        "# 例えば、2015年9月14日の重力波のデータのurlをゲットしたかったら以下のコマンドを使う\n",
        "# これでその日で観測された重力波に関してのデータのurlが出る\n",
        "\n",
        "from gwosc.locate import get_event_urls\n",
        "urls = get_event_urls('GW150914')\n",
        "print(urls)"
      ],
      "metadata": {
        "colab": {
          "base_uri": "https://localhost:8080/"
        },
        "id": "z00X2RITiUKw",
        "outputId": "9d125298-79b1-4013-e0da-9e6636e88792"
      },
      "execution_count": null,
      "outputs": [
        {
          "output_type": "stream",
          "name": "stdout",
          "text": [
            "['http://gwosc.org/eventapi/json/GWTC-1-confident/GW150914/v3/H-H1_GWOSC_4KHZ_R1-1126259447-32.hdf5', 'http://gwosc.org/eventapi/json/GWTC-1-confident/GW150914/v3/H-H1_GWOSC_4KHZ_R1-1126257415-4096.hdf5', 'http://gwosc.org/eventapi/json/GWTC-1-confident/GW150914/v3/L-L1_GWOSC_4KHZ_R1-1126259447-32.hdf5', 'http://gwosc.org/eventapi/json/GWTC-1-confident/GW150914/v3/L-L1_GWOSC_4KHZ_R1-1126257415-4096.hdf5']\n"
          ]
        }
      ]
    },
    {
      "cell_type": "markdown",
      "source": [
        "このコマンドは、指定されたイベントに関連するファイルを提供する。しかし、例えばLIGO-Livingston検出器の32秒ファイルのURLを取得するために、キーワード引数を使用することで、これらのいずれかをフィルタリングすることができる。"
      ],
      "metadata": {
        "id": "pegbjBqVi9oF"
      }
    },
    {
      "cell_type": "code",
      "source": [
        "urls = get_event_urls('GW150914', duration=32, detector='L1')\n",
        "print(urls)"
      ],
      "metadata": {
        "id": "mBmEIFTkjFrQ",
        "outputId": "1435880e-4593-4903-bd79-75a1f37ad47d",
        "colab": {
          "base_uri": "https://localhost:8080/"
        }
      },
      "execution_count": null,
      "outputs": [
        {
          "output_type": "stream",
          "name": "stdout",
          "text": [
            "['http://gwosc.org/eventapi/json/GWTC-1-confident/GW150914/v3/L-L1_GWOSC_4KHZ_R1-1126259447-32.hdf5']\n"
          ]
        }
      ]
    },
    {
      "cell_type": "markdown",
      "source": [
        "# 合体のパラメータによってデータを探す"
      ],
      "metadata": {
        "id": "fX6_HDxalMIT"
      }
    },
    {
      "cell_type": "markdown",
      "source": [
        "gwosc.datasetsのquery_eventsのmoduleを使用すると、<a href=\"https://www.gw-openscience.org/eventapi/html/query/\"> イベントポータル </a>のQuery関数で実行されるのと同様に、絞られたパラメータによってイベントが取ることができる。\n",
        "利用可能なパラメータのリストは、<a href=\"https://gwosc.readthedocs.io/en/stable/reference/gwosc.datasets.query_events.html\"> ここ </a>またはquery_eventsを使用して見つけることができる。\n",
        "例えば、ネットワークのSNR（信号対雑音比）<a href=\"https://ja.wikipedia.org/wiki/SN比\"> (ここで読んでください)</a>が25から30の間で検出されたイベントを見つけるには、以下のコードを使用できる。"
      ],
      "metadata": {
        "id": "fiA74B9koDzG"
      }
    },
    {
      "cell_type": "code",
      "source": [
        "from gwosc.datasets import query_events\n",
        "selection = query_events(select=[\"25 <= network-matched-filter-snr <= 30\"])\n",
        "#this is equivalent to\n",
        "#query_events(select=[\"network-matched-filter-snr <= 30\", \"network-matched-filter-snr>= 25\"])\n",
        "print(selection)"
      ],
      "metadata": {
        "colab": {
          "base_uri": "https://localhost:8080/"
        },
        "id": "VMTCFaFfqnhS",
        "outputId": "d49a4a1c-390a-409b-afba-5912b3b86cdf"
      },
      "execution_count": null,
      "outputs": [
        {
          "output_type": "stream",
          "name": "stdout",
          "text": [
            "['GW200129_065458-v1', 'GW190814-v1', 'GW190814_211039-v3', 'GW190521_074359-v2', 'GW150914-v3']\n"
          ]
        }
      ]
    },
    {
      "cell_type": "markdown",
      "source": [
        "このmoduleは、要求されたパラメーターを持つ全てのイベントの全ての利用可能なバージョンのリストが出ることに注意してください。例えば、このコマンドを実行することによってイベント GW190814 が2回リストアップされているが、これは、そのイベントの2つのバージョンが、SNR 25 から 30 の条件を満たしているからだ。"
      ],
      "metadata": {
        "id": "8aEXtSSOrPnM"
      }
    }
  ]
}